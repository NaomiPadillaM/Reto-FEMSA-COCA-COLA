{
  "nbformat": 4,
  "nbformat_minor": 0,
  "metadata": {
    "colab": {
      "name": "Coca Cola Random Forest Loop.ipynb",
      "provenance": []
    },
    "kernelspec": {
      "display_name": "Python 3",
      "name": "python3"
    },
    "language_info": {
      "name": "python"
    }
  },
  "cells": [
    {
      "cell_type": "markdown",
      "metadata": {
        "id": "0b0bRhbrdMeg"
      },
      "source": [
        "\n",
        "\n",
        "## Código Inicial\n"
      ]
    },
    {
      "cell_type": "code",
      "metadata": {
        "id": "36dgh4ixdLKj"
      },
      "source": [
        "import pandas as pd\n",
        "import numpy as np\n",
        "from sklearn.metrics import mean_absolute_error\n",
        "from sklearn.model_selection import train_test_split\n",
        "from sklearn.tree import DecisionTreeRegressor\n",
        "from sklearn.ensemble import RandomForestRegressor"
      ],
      "execution_count": null,
      "outputs": []
    },
    {
      "cell_type": "code",
      "metadata": {
        "id": "MPS2EkrDdDRS"
      },
      "source": [
        "path= \"/content/resumen_completo.csv\"\n",
        "\n",
        "datos = pd.read_csv(path, encoding=\"latin-1\")"
      ],
      "execution_count": null,
      "outputs": []
    },
    {
      "cell_type": "code",
      "metadata": {
        "id": "lwWHGuvZdYmS"
      },
      "source": [
        "lineas= [\"LINEA001\",\"LINEA004\",\"LINEA005\",\"LINEA006\",\"LINEA007\",\"LINEA009\",\"MULTI001\",\"JUNTAS\"]\n",
        "compresores= [\"COMP01\",\"COMP02\",\"COMP05\",\"COMP07\",\"COMP08\",\"COMP09\",\"COMP10\",\"COMP11\"]"
      ],
      "execution_count": null,
      "outputs": []
    },
    {
      "cell_type": "markdown",
      "metadata": {
        "id": "69UGYMUPd4v3"
      },
      "source": [
        "## Función Random Forest (Por Linea)"
      ]
    },
    {
      "cell_type": "code",
      "metadata": {
        "id": "7GLF1DL8d_Qe"
      },
      "source": [
        "def randomForestMAPE(nlinea, ncompresor, semilla):\n",
        "  linea= lineas[nlinea]\n",
        "  compresor= compresores[ncompresor]\n",
        "\n",
        "  varCompresor= \"MAAP_AUX_REFRIG_\" + compresor + \"_\"\n",
        "  datos_lineas = datos.loc[datos.LINEA == linea]\n",
        "  datos_lineas = datos_lineas.loc[datos_lineas[varCompresor+\"PE\"]!= 0]\n",
        "\n",
        "  y= datos_lineas[varCompresor+\"PE\"]\n",
        "  variables=[varCompresor+\"HM\",varCompresor+\"PA\",varCompresor+\"PD\",varCompresor+\"PS\",varCompresor+\"TD\",varCompresor+\"TS\"]\n",
        "  X= datos_lineas[variables]\n",
        "  train_X, val_X, train_y, val_y = train_test_split(X, y, random_state=1)\n",
        "  model = RandomForestRegressor(random_state=semilla)\n",
        "  model.fit(train_X, train_y)\n",
        "  val_predictions = model.predict(val_X)\n",
        "  actual, pred = np.array(val_y), np.array(val_predictions)\n",
        "  mape= np.mean(np.abs((actual - pred) / actual)) * 100\n",
        "  return(mape)"
      ],
      "execution_count": null,
      "outputs": []
    },
    {
      "cell_type": "markdown",
      "metadata": {
        "id": "nL_9n7Ds55BY"
      },
      "source": [
        "## Función Random Forest (Lineas Juntas)"
      ]
    },
    {
      "cell_type": "code",
      "metadata": {
        "id": "TkQRMwVp5-nJ"
      },
      "source": [
        "def randomForestMAPEJ(ncompresor, semilla):\n",
        "  compresor= compresores[ncompresor]\n",
        "\n",
        "  varCompresor= \"MAAP_AUX_REFRIG_\" + compresor + \"_\"\n",
        "  datos_lineas = datos.loc[datos[varCompresor+\"PE\"]!= 0]\n",
        "\n",
        "  y= datos_lineas[varCompresor+\"PE\"]\n",
        "  variables=[varCompresor+\"HM\",varCompresor+\"PA\",varCompresor+\"PD\",varCompresor+\"PS\",varCompresor+\"TD\",varCompresor+\"TS\"]\n",
        "  X= datos_lineas[variables]\n",
        "  train_X, val_X, train_y, val_y = train_test_split(X, y, random_state=1)\n",
        "  model = RandomForestRegressor(random_state=semilla)\n",
        "  model.fit(train_X, train_y)\n",
        "  val_predictions = model.predict(val_X)\n",
        "  actual, pred = np.array(val_y), np.array(val_predictions)\n",
        "  mape= np.mean(np.abs((actual - pred) / actual)) * 100\n",
        "  return(mape)"
      ],
      "execution_count": null,
      "outputs": []
    },
    {
      "cell_type": "markdown",
      "metadata": {
        "id": "MUJXcxHix1q0"
      },
      "source": [
        "## Función Gráfico Random Forest (Por Linea)"
      ]
    },
    {
      "cell_type": "code",
      "metadata": {
        "id": "Vtg8r0E2yARn"
      },
      "source": [
        "def grafRandomForest(nlinea, ncompresor, semilla):\n",
        "  linea= lineas[nlinea]\n",
        "  compresor= compresores[ncompresor]\n",
        "\n",
        "  varCompresor= \"MAAP_AUX_REFRIG_\" + compresor + \"_\"\n",
        "  datos_lineas = datos.loc[datos.LINEA == linea]\n",
        "  datos_lineas = datos_lineas.loc[datos_lineas[varCompresor+\"PE\"]!= 0]\n",
        "\n",
        "  y= datos_lineas[varCompresor+\"PE\"]\n",
        "  variables=[varCompresor+\"HM\",varCompresor+\"PA\",varCompresor+\"PD\",varCompresor+\"PS\",varCompresor+\"TD\",varCompresor+\"TS\"]\n",
        "  X= datos_lineas[variables]\n",
        "  train_X, val_X, train_y, val_y = train_test_split(X, y, random_state=1)\n",
        "  model = RandomForestRegressor(random_state=semilla)\n",
        "  model.fit(train_X, train_y)\n",
        "  columnas= train_X.columns\n",
        "  importancia= model.feature_importances_\n",
        "  tabla_importancia= pd.Series(importancia,columnas)\n",
        "  return(tabla_importancia)"
      ],
      "execution_count": null,
      "outputs": []
    },
    {
      "cell_type": "markdown",
      "metadata": {
        "id": "PohVpNXcPbOC"
      },
      "source": [
        "## Loop de Porcentaje de error absoluto promedio por cada linea en cada compresor"
      ]
    },
    {
      "cell_type": "code",
      "metadata": {
        "colab": {
          "base_uri": "https://localhost:8080/",
          "height": 317
        },
        "id": "U5MazjtSkfAp",
        "outputId": "0e2a0b95-c7f1-4630-89b0-4d48691153bc"
      },
      "source": [
        "semilla=100\n",
        "df_MAPE=np.zeros(shape=(8,8))\n",
        "for i in range(7):\n",
        "  for j in range(8):\n",
        "    df_MAPE[i,j]=randomForestMAPE(i,j,semilla)\n",
        "for k in range(8):\n",
        "  df_MAPE[7,k]=randomForestMAPEJ(k,semilla)\n",
        "df_MAPE= pd.DataFrame(df_MAPE,columns=compresores,index=lineas)\n",
        "print(\"Porcentaje de error absoluto promedio para la semilla \" + str(semilla))\n",
        "df_MAPE"
      ],
      "execution_count": null,
      "outputs": [
        {
          "output_type": "stream",
          "name": "stdout",
          "text": [
            "Porcentaje de error absoluto promedio para la semilla 100\n"
          ]
        },
        {
          "output_type": "execute_result",
          "data": {
            "text/html": [
              "<div>\n",
              "<style scoped>\n",
              "    .dataframe tbody tr th:only-of-type {\n",
              "        vertical-align: middle;\n",
              "    }\n",
              "\n",
              "    .dataframe tbody tr th {\n",
              "        vertical-align: top;\n",
              "    }\n",
              "\n",
              "    .dataframe thead th {\n",
              "        text-align: right;\n",
              "    }\n",
              "</style>\n",
              "<table border=\"1\" class=\"dataframe\">\n",
              "  <thead>\n",
              "    <tr style=\"text-align: right;\">\n",
              "      <th></th>\n",
              "      <th>COMP01</th>\n",
              "      <th>COMP02</th>\n",
              "      <th>COMP05</th>\n",
              "      <th>COMP07</th>\n",
              "      <th>COMP08</th>\n",
              "      <th>COMP09</th>\n",
              "      <th>COMP10</th>\n",
              "      <th>COMP11</th>\n",
              "    </tr>\n",
              "  </thead>\n",
              "  <tbody>\n",
              "    <tr>\n",
              "      <th>LINEA001</th>\n",
              "      <td>3.843437</td>\n",
              "      <td>27.436808</td>\n",
              "      <td>146.996636</td>\n",
              "      <td>29.957039</td>\n",
              "      <td>189.016878</td>\n",
              "      <td>4.472796</td>\n",
              "      <td>50.467753</td>\n",
              "      <td>16.775918</td>\n",
              "    </tr>\n",
              "    <tr>\n",
              "      <th>LINEA004</th>\n",
              "      <td>2.553214</td>\n",
              "      <td>21.087838</td>\n",
              "      <td>74.411128</td>\n",
              "      <td>27.110338</td>\n",
              "      <td>342.290743</td>\n",
              "      <td>22.467203</td>\n",
              "      <td>44.908405</td>\n",
              "      <td>19.431708</td>\n",
              "    </tr>\n",
              "    <tr>\n",
              "      <th>LINEA005</th>\n",
              "      <td>2.868967</td>\n",
              "      <td>17.955654</td>\n",
              "      <td>31.835187</td>\n",
              "      <td>38.088698</td>\n",
              "      <td>148.417604</td>\n",
              "      <td>4.678571</td>\n",
              "      <td>22.051449</td>\n",
              "      <td>48.313949</td>\n",
              "    </tr>\n",
              "    <tr>\n",
              "      <th>LINEA006</th>\n",
              "      <td>0.782131</td>\n",
              "      <td>79.939223</td>\n",
              "      <td>173.749594</td>\n",
              "      <td>36.436675</td>\n",
              "      <td>104.425787</td>\n",
              "      <td>27.386583</td>\n",
              "      <td>41.857207</td>\n",
              "      <td>7.544877</td>\n",
              "    </tr>\n",
              "    <tr>\n",
              "      <th>LINEA007</th>\n",
              "      <td>1.827036</td>\n",
              "      <td>54.225787</td>\n",
              "      <td>50.843061</td>\n",
              "      <td>41.289737</td>\n",
              "      <td>172.366129</td>\n",
              "      <td>8.673816</td>\n",
              "      <td>57.315550</td>\n",
              "      <td>187.535303</td>\n",
              "    </tr>\n",
              "    <tr>\n",
              "      <th>LINEA009</th>\n",
              "      <td>1.478911</td>\n",
              "      <td>13.989789</td>\n",
              "      <td>31.643856</td>\n",
              "      <td>60.946279</td>\n",
              "      <td>107.102660</td>\n",
              "      <td>10.647245</td>\n",
              "      <td>80.674056</td>\n",
              "      <td>3.541291</td>\n",
              "    </tr>\n",
              "    <tr>\n",
              "      <th>MULTI001</th>\n",
              "      <td>3.026704</td>\n",
              "      <td>25.080738</td>\n",
              "      <td>39.911213</td>\n",
              "      <td>77.459459</td>\n",
              "      <td>144.923856</td>\n",
              "      <td>171.779217</td>\n",
              "      <td>142.964784</td>\n",
              "      <td>89.821794</td>\n",
              "    </tr>\n",
              "    <tr>\n",
              "      <th>JUNTAS</th>\n",
              "      <td>0.583513</td>\n",
              "      <td>11.391338</td>\n",
              "      <td>54.655427</td>\n",
              "      <td>35.543585</td>\n",
              "      <td>87.058409</td>\n",
              "      <td>12.482571</td>\n",
              "      <td>113.373824</td>\n",
              "      <td>17.015543</td>\n",
              "    </tr>\n",
              "  </tbody>\n",
              "</table>\n",
              "</div>"
            ],
            "text/plain": [
              "            COMP01     COMP02      COMP05  ...      COMP09      COMP10      COMP11\n",
              "LINEA001  3.843437  27.436808  146.996636  ...    4.472796   50.467753   16.775918\n",
              "LINEA004  2.553214  21.087838   74.411128  ...   22.467203   44.908405   19.431708\n",
              "LINEA005  2.868967  17.955654   31.835187  ...    4.678571   22.051449   48.313949\n",
              "LINEA006  0.782131  79.939223  173.749594  ...   27.386583   41.857207    7.544877\n",
              "LINEA007  1.827036  54.225787   50.843061  ...    8.673816   57.315550  187.535303\n",
              "LINEA009  1.478911  13.989789   31.643856  ...   10.647245   80.674056    3.541291\n",
              "MULTI001  3.026704  25.080738   39.911213  ...  171.779217  142.964784   89.821794\n",
              "JUNTAS    0.583513  11.391338   54.655427  ...   12.482571  113.373824   17.015543\n",
              "\n",
              "[8 rows x 8 columns]"
            ]
          },
          "metadata": {},
          "execution_count": 7
        }
      ]
    }
  ]
}